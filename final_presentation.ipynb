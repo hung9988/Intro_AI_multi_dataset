{
 "cells": [
  {
   "cell_type": "code",
   "execution_count": 46,
   "metadata": {},
   "outputs": [],
   "source": [
    "import pandas as pd\n",
    "from pre_processor import PreProcessor\n",
    "from train_setup import Model_selection\n",
    "\n",
    "pd.set_option('future.no_silent_downcasting', True)\n",
    "dataset0=pd.read_csv('dataset0.csv')\n",
    "dataset1=pd.read_csv('dataset1.csv')\n",
    "dataset2=pd.read_csv('dataset2.csv')\n",
    "dataset3=pd.read_csv('dataset3.csv')\n",
    "dataset4=pd.read_csv('dataset4.csv')\n",
    "\n"
   ]
  },
  {
   "cell_type": "code",
   "execution_count": 47,
   "metadata": {},
   "outputs": [],
   "source": [
    "### Dataset0 Specific Processing\n",
    "###THIS SECTION IS DATASET SPECIFIC PROCESSING\n",
    "dataset0['total_calls']=dataset0['total_day_calls']+dataset0['total_eve_calls']+dataset0['total_night_calls']\n",
    "dataset0['total_minutes']=dataset0['total_day_minutes']+dataset0['total_eve_minutes']+dataset0['total_night_minutes']\n",
    "dataset0['total_charges']=dataset0['total_day_charge']+dataset0['total_eve_charge']+dataset0['total_night_charge']\n",
    "dataset0.drop(['total_day_calls','total_eve_calls','total_night_calls','total_day_minutes','total_eve_minutes','total_night_minutes','total_day_charge','total_eve_charge','total_night_charge'],axis=1,inplace=True)\n",
    "dataset0['churn'] = dataset0['churn'].replace({'no':0,'yes':1})\n",
    "churn_column = dataset0['churn']\n",
    "dataset0.drop('churn',axis=1,inplace=True)\n",
    "dataset0['churn'] = churn_column\n",
    "###THIS SECTION IS DATASET SPECIFIC PROCESSING\n"
   ]
  },
  {
   "cell_type": "code",
   "execution_count": 48,
   "metadata": {},
   "outputs": [],
   "source": [
    "###THIS SECTION IS DATASET SPECIFIC PROCESSING\n",
    "drop_columns=['CustomerID', 'Churn Label','Churn Reason','Churn Score','CLTV','Lat Long', 'Count','Country','State']\n",
    "dataset1=dataset1.drop(columns=drop_columns)\n",
    "dataset1['Zip Code']=dataset1['Zip Code'].astype(str)\n",
    "dataset1['Total Charges'] = pd.to_numeric(dataset1['Total Charges'], errors='coerce')\n",
    "###THIS SECTION IS DATASET SPECIFIC PROCESSING\n"
   ]
  },
  {
   "cell_type": "code",
   "execution_count": 49,
   "metadata": {},
   "outputs": [],
   "source": [
    "###THIS SECTION IS DATASET SPECIFIC PROCESSING\n",
    "drop_columns=['customerID']\n",
    "dataset3.drop(drop_columns,axis=1,inplace=True)\n",
    "dataset3['TotalCharges']=pd.to_numeric(dataset3['TotalCharges'],errors='coerce')\n",
    "dataset3['Churn']=dataset3['Churn'].replace({'Yes':1,'No':0})\n",
    "dataset3['Churn']=dataset3['Churn'].astype(float)\n",
    "###THIS SECTION IS DATASET SPECIFIC PROCESSING"
   ]
  },
  {
   "cell_type": "code",
   "execution_count": 50,
   "metadata": {},
   "outputs": [],
   "source": [
    "###THIS SECTION IS DATASET SPECIFIC PROCESSING\n",
    "drop_columns=['RowNumber','CustomerId','Surname']\n",
    "dataset4.drop(drop_columns, axis=1, inplace=True)\n",
    "###THIS SECTION IS DATASET SPECIFIC PROCESSING"
   ]
  },
  {
   "cell_type": "code",
   "execution_count": 51,
   "metadata": {},
   "outputs": [
    {
     "data": {
      "text/plain": [
       "Index(['state', 'account_length', 'area_code', 'international_plan',\n",
       "       'voice_mail_plan', 'number_vmail_messages', 'total_intl_minutes',\n",
       "       'total_intl_calls', 'total_intl_charge',\n",
       "       'number_customer_service_calls', 'total_calls', 'total_minutes',\n",
       "       'total_charges', 'churn'],\n",
       "      dtype='object')"
      ]
     },
     "execution_count": 51,
     "metadata": {},
     "output_type": "execute_result"
    }
   ],
   "source": [
    "dataset0.columns"
   ]
  },
  {
   "cell_type": "code",
   "execution_count": 52,
   "metadata": {},
   "outputs": [
    {
     "name": "stderr",
     "output_type": "stream",
     "text": [
      "[I 2024-06-11 12:28:16,955] A new study created in memory with name: no-name-9c133a5f-dd6f-4af7-a3fb-37b84d7a2a4b\n",
      "[I 2024-06-11 12:28:18,279] Trial 0 finished with value: 0.8878984203803743 and parameters: {'n_estimators': 143, 'max_depth': 3, 'min_samples_split': 2, 'min_samples_leaf': 18}. Best is trial 0 with value: 0.8878984203803743.\n",
      "[I 2024-06-11 12:28:18,280] A new study created in memory with name: no-name-8592dda7-92e7-4598-87a9-389815031dfb\n",
      "[I 2024-06-11 12:28:22,941] Trial 0 finished with value: 0.8637696720062811 and parameters: {'num_layers': 1, 'layer1_size': 63, 'layer2_size': 40, 'activation': 'tanh', 'solver': 'adam', 'alpha': 0.006323149943530548}. Best is trial 0 with value: 0.8637696720062811.\n",
      "[I 2024-06-11 12:28:22,942] A new study created in memory with name: no-name-41c54778-0bef-4f4b-98d4-3f697320327a\n",
      "[I 2024-06-11 12:28:31,348] Trial 0 finished with value: 0.9941813047095633 and parameters: {'n_estimators': 51, 'learning_rate': 0.07431387271230483, 'max_depth': 32, 'min_samples_split': 7, 'min_samples_leaf': 13}. Best is trial 0 with value: 0.9941813047095633.\n",
      "[I 2024-06-11 12:28:31,349] A new study created in memory with name: no-name-a3ed2c96-dd0a-433a-8030-1922591f0cd9\n",
      "[I 2024-06-11 12:28:36,851] Trial 0 finished with value: 0.7792232560319674 and parameters: {'C': 0.5787191745085263, 'kernel': 'linear', 'gamma': 'auto'}. Best is trial 0 with value: 0.7792232560319674.\n",
      "[I 2024-06-11 12:28:36,852] A new study created in memory with name: no-name-d331fedc-0729-455c-a851-dfeb1ee22303\n",
      "[I 2024-06-11 12:28:37,240] Trial 0 finished with value: 0.9387324665737019 and parameters: {'n_neighbors': 2, 'weights': 'uniform'}. Best is trial 0 with value: 0.9387324665737019.\n",
      "[I 2024-06-11 12:28:37,241] A new study created in memory with name: no-name-e9b5c86c-0876-4e3b-9799-cfa3c171c397\n",
      "[I 2024-06-11 12:28:37,370] Trial 0 finished with value: 0.7763152266894782 and parameters: {'C': 4.594087608582264, 'solver': 'liblinear'}. Best is trial 0 with value: 0.7763152266894782.\n"
     ]
    }
   ],
   "source": [
    "label_column0 = 'churn'\n",
    "pre_processor0 = PreProcessor(dataset0)\n",
    "pre_processor0.rename_label(label_column0)\n",
    "binary_encode_columns=['state','area_code','international_plan','voice_mail_plan']\n",
    "one_hot_encode_columns=[]\n",
    "ordinal_encode_columns=[]\n",
    "scaling_columns=['account_length','number_vmail_messages','total_intl_minutes','total_intl_calls',\n",
    "                     'total_intl_charge','number_customer_service_calls','total_calls','total_minutes','total_charges']\n",
    "\n",
    "\n",
    "pre_processor0.\\\n",
    "    remove_nans().\\\n",
    "    remove_duplicates().\\\n",
    "    scale(scaling_columns).\\\n",
    "    binary_encode(binary_encode_columns).\\\n",
    "    onehot_encode(one_hot_encode_columns).\\\n",
    "    ordinal_encode(ordinal_encode_columns).\\\n",
    "    oversample()\n",
    "\n",
    "pre_processor0.calculate_feature_importance()\n",
    "pre_processor0.remove_features_by_importance(0.01)\n",
    "X_train,X_test,y_train,y_test = pre_processor0.train_test_split()\n",
    "\n",
    "\n",
    "\n",
    "model_select0=Model_selection()\n",
    "model_select0.train(X_train,y_train,X_test,y_test,n_trials_=1)\n"
   ]
  },
  {
   "cell_type": "code",
   "execution_count": 53,
   "metadata": {},
   "outputs": [
    {
     "name": "stderr",
     "output_type": "stream",
     "text": [
      "[I 2024-06-11 12:29:03,616] A new study created in memory with name: no-name-71f22ad9-3c89-49e7-98fd-7e1eaee4b5ba\n",
      "[I 2024-06-11 12:29:04,231] Trial 0 finished with value: 0.8416464891041162 and parameters: {'n_estimators': 14, 'max_depth': 10, 'min_samples_split': 2, 'min_samples_leaf': 15}. Best is trial 0 with value: 0.8416464891041162.\n",
      "[I 2024-06-11 12:29:04,232] A new study created in memory with name: no-name-7356a033-ea3e-4ab0-9507-58112dc1ce62\n",
      "[I 2024-06-11 12:29:13,648] Trial 0 finished with value: 0.8248184019370459 and parameters: {'num_layers': 1, 'layer1_size': 61, 'layer2_size': 37, 'activation': 'tanh', 'solver': 'adam', 'alpha': 0.0017372638768631608}. Best is trial 0 with value: 0.8248184019370459.\n",
      "[I 2024-06-11 12:29:13,649] A new study created in memory with name: no-name-18a7c5dd-10b2-44e1-b8d4-65e3b74d74da\n",
      "[I 2024-06-11 12:30:37,488] Trial 0 finished with value: 0.9024213075060533 and parameters: {'n_estimators': 133, 'learning_rate': 0.05244719088807651, 'max_depth': 28, 'min_samples_split': 16, 'min_samples_leaf': 14}. Best is trial 0 with value: 0.9024213075060533.\n",
      "[I 2024-06-11 12:30:37,489] A new study created in memory with name: no-name-9c3d0926-0a3d-4a8c-99a1-fa5671ce4d78\n",
      "[I 2024-06-11 12:31:15,052] Trial 0 finished with value: 0.8238498789346249 and parameters: {'C': 6.034040597479501, 'kernel': 'linear', 'gamma': 'scale'}. Best is trial 0 with value: 0.8238498789346249.\n",
      "[I 2024-06-11 12:31:15,053] A new study created in memory with name: no-name-47591f46-ee7a-42f6-95f4-9f132c8d0b01\n",
      "[I 2024-06-11 12:31:15,367] Trial 0 finished with value: 0.831719128329298 and parameters: {'n_neighbors': 8, 'weights': 'distance'}. Best is trial 0 with value: 0.831719128329298.\n",
      "[I 2024-06-11 12:31:15,368] A new study created in memory with name: no-name-7b695fe6-7495-4b6d-9634-47331829b8a9\n",
      "[I 2024-06-11 12:31:15,794] Trial 0 finished with value: 0.8213075060532689 and parameters: {'C': 0.18349301051336409, 'solver': 'lbfgs'}. Best is trial 0 with value: 0.8213075060532689.\n"
     ]
    },
    {
     "data": {
      "image/png": "[encoded data removed]",
      "text/plain": [
       "<Figure size 640x480 with 1 Axes>"
      ]
     },
     "metadata": {},
     "output_type": "display_data"
    }
   ],
   "source": [
    "from pre_processor import PreProcessor\n",
    "\n",
    "\n",
    "label_column1 = 'Churn Value'\n",
    "pre_processor1 = PreProcessor(dataset1)\n",
    "pre_processor1.rename_label(label_column1)\n",
    "binary_encode_columns=['City','Zip Code']\n",
    "one_hot_encode_columns=['Gender','Senior Citizen','Partner','Dependents','Phone Service','Multiple Lines','Internet Service','Online Security','Online Backup','Device Protection','Tech Support','Streaming TV','Streaming Movies','Contract','Paperless Billing','Payment Method']\n",
    "ordinal_encode_columns=[]\n",
    "scaling_columns=[column for column in dataset1.columns if column not in binary_encode_columns+one_hot_encode_columns+ordinal_encode_columns+[label_column1]]\n",
    "\n",
    "\n",
    "\n",
    "pre_processor1.\\\n",
    "    remove_nans().\\\n",
    "    remove_duplicates().\\\n",
    "    scale(scaling_columns).\\\n",
    "    binary_encode(binary_encode_columns).\\\n",
    "    onehot_encode(one_hot_encode_columns).\\\n",
    "    ordinal_encode(ordinal_encode_columns).\\\n",
    "    oversample()\n",
    "\n",
    "pre_processor1.calculate_feature_importance()\n",
    "pre_processor1.remove_features_by_importance(0.01)\n",
    "X_train,X_test,y_train,y_test = pre_processor1.train_test_split()\n",
    "\n",
    "model_select1=Model_selection()\n",
    "model_select1.train(X_train,y_train,X_test,y_test,n_trials_=1)"
   ]
  }
 ],
 "metadata": {
  "kernelspec": {
   "display_name": "Python 3",
   "language": "python",
   "name": "python3"
  },
  "language_info": {
   "codemirror_mode": {
    "name": "ipython",
    "version": 3
   },
   "file_extension": ".py",
   "mimetype": "text/x-python",
   "name": "python",
   "nbconvert_exporter": "python",
   "pygments_lexer": "ipython3",
   "version": "3.12.3"
  }
 },
 "nbformat": 4,
 "nbformat_minor": 2
}

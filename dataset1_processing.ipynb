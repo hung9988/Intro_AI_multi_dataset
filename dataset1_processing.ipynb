{
 "cells": [
  {
   "cell_type": "code",
   "execution_count": 29,
   "metadata": {},
   "outputs": [],
   "source": [
    "import pandas as pd\n",
    "import numpy as np\n",
    "from category_encoders import BinaryEncoder, OneHotEncoder, OrdinalEncoder\n",
    "from sklearn.model_selection import train_test_split\n",
    "from sklearn.ensemble import RandomForestClassifier\n",
    "from sklearn.metrics import accuracy_score, classification_report\n",
    "from sklearn.preprocessing import StandardScaler\n",
    "dataset=pd.read_csv('dataset1.csv')"
   ]
  },
  {
   "cell_type": "code",
   "execution_count": 30,
   "metadata": {},
   "outputs": [
    {
     "data": {
      "text/plain": [
       "Index(['CustomerID', 'Count', 'Country', 'State', 'City', 'Zip Code',\n",
       "       'Lat Long', 'Latitude', 'Longitude', 'Gender', 'Senior Citizen',\n",
       "       'Partner', 'Dependents', 'Tenure Months', 'Phone Service',\n",
       "       'Multiple Lines', 'Internet Service', 'Online Security',\n",
       "       'Online Backup', 'Device Protection', 'Tech Support', 'Streaming TV',\n",
       "       'Streaming Movies', 'Contract', 'Paperless Billing', 'Payment Method',\n",
       "       'Monthly Charges', 'Total Charges', 'Churn Label', 'Churn Value',\n",
       "       'Churn Score', 'CLTV', 'Churn Reason'],\n",
       "      dtype='object')"
      ]
     },
     "execution_count": 30,
     "metadata": {},
     "output_type": "execute_result"
    }
   ],
   "source": [
    "dataset.columns"
   ]
  },
  {
   "cell_type": "code",
   "execution_count": 31,
   "metadata": {},
   "outputs": [],
   "source": [
    "dataset=dataset.drop(['CustomerID','Lat Long','Latitude', 'Longitude','Churn Label',\n",
    "       'Churn Score', 'CLTV', 'Churn Reason'],axis=1)"
   ]
  },
  {
   "cell_type": "code",
   "execution_count": 32,
   "metadata": {},
   "outputs": [],
   "source": [
    "dataset.rename(columns={'Churn Value':'Churn'},inplace=True)\n"
   ]
  },
  {
   "cell_type": "code",
   "execution_count": 33,
   "metadata": {},
   "outputs": [],
   "source": [
    "clf=RandomForestClassifier(n_estimators=100)\n"
   ]
  },
  {
   "cell_type": "code",
   "execution_count": 34,
   "metadata": {},
   "outputs": [],
   "source": [
    "dataset.rename(columns={'Churn Value': 'Churn'}, inplace=True)"
   ]
  },
  {
   "cell_type": "code",
   "execution_count": 35,
   "metadata": {},
   "outputs": [],
   "source": [
    "### remove rows with missing values\n",
    "dataset=dataset.replace({' ':np.nan})\n",
    "dataset=dataset.dropna(axis=0)\n"
   ]
  },
  {
   "cell_type": "code",
   "execution_count": 36,
   "metadata": {},
   "outputs": [
    {
     "name": "stdout",
     "output_type": "stream",
     "text": [
      "Count\n",
      "1\n",
      "\n",
      "Country\n",
      "1\n",
      "\n",
      "State\n",
      "1\n",
      "\n",
      "City\n",
      "1129\n",
      "\n",
      "Zip Code\n",
      "1652\n",
      "\n",
      "Gender\n",
      "2\n",
      "\n",
      "Senior Citizen\n",
      "2\n",
      "\n",
      "Partner\n",
      "2\n",
      "\n",
      "Dependents\n",
      "2\n",
      "\n",
      "Tenure Months\n",
      "72\n",
      "\n",
      "Phone Service\n",
      "2\n",
      "\n",
      "Multiple Lines\n",
      "3\n",
      "\n",
      "Internet Service\n",
      "3\n",
      "\n",
      "Online Security\n",
      "3\n",
      "\n",
      "Online Backup\n",
      "3\n",
      "\n",
      "Device Protection\n",
      "3\n",
      "\n",
      "Tech Support\n",
      "3\n",
      "\n",
      "Streaming TV\n",
      "3\n",
      "\n",
      "Streaming Movies\n",
      "3\n",
      "\n",
      "Contract\n",
      "3\n",
      "\n",
      "Paperless Billing\n",
      "2\n",
      "\n",
      "Payment Method\n",
      "4\n",
      "\n",
      "Monthly Charges\n",
      "1584\n",
      "\n",
      "Total Charges\n",
      "6530\n",
      "\n",
      "Churn\n",
      "2\n",
      "\n"
     ]
    }
   ],
   "source": [
    "## check for unique values in each column\n",
    "for column in dataset.columns:\n",
    "    print(column)\n",
    "    print(dataset[column].nunique())\n",
    "    print('')"
   ]
  },
  {
   "cell_type": "code",
   "execution_count": 37,
   "metadata": {},
   "outputs": [],
   "source": [
    "#removing features with 1 unique values since it will not help in prediction\n",
    "for column in dataset.columns:\n",
    "    if dataset[column].nunique()==1:\n",
    "        dataset=dataset.drop(column,axis=1)"
   ]
  },
  {
   "cell_type": "code",
   "execution_count": 38,
   "metadata": {},
   "outputs": [],
   "source": [
    "scaler=StandardScaler()\n",
    "scaling_columns=[\"Monthly Charges\",\"Total Charges\"]\n",
    "dataset[scaling_columns]=scaler.fit_transform(dataset[scaling_columns])"
   ]
  },
  {
   "cell_type": "code",
   "execution_count": 39,
   "metadata": {},
   "outputs": [],
   "source": [
    "dataset[\"Zip Code\"]=dataset[\"Zip Code\"].astype(str)"
   ]
  },
  {
   "cell_type": "code",
   "execution_count": 40,
   "metadata": {},
   "outputs": [],
   "source": [
    "dataset[\"Total Charges\"]=dataset[\"Total Charges\"].astype(float)"
   ]
  },
  {
   "cell_type": "code",
   "execution_count": 90,
   "metadata": {},
   "outputs": [],
   "source": [
    "X=dataset.drop('Churn',axis=1)\n",
    "y=dataset['Churn']\n",
    "for column in X.columns:\n",
    "    if X[column].dtype=='object':\n",
    "        encoder=OrdinalEncoder(cols=[column])\n",
    "        X=encoder.fit_transform(X)\n",
    "X=X.drop(['Phone Service','Gender','Senior Citizen','Partner','Multiple Lines','Paperless Billing'],axis=1)\n",
    "X_train, X_test, y_train, y_test = train_test_split(X, y, test_size=0.2, random_state=42)"
   ]
  },
  {
   "cell_type": "code",
   "execution_count": 93,
   "metadata": {},
   "outputs": [
    {
     "data": {
      "text/plain": [
       "0.8407960199004975"
      ]
     },
     "execution_count": 93,
     "metadata": {},
     "output_type": "execute_result"
    }
   ],
   "source": [
    "clf=RandomForestClassifier(n_estimators=100,min_samples_split=2, max_depth=10, random_state=42)\n",
    "clf.fit(X_train,y_train)\n",
    "clf.score(X_test,y_test)"
   ]
  },
  {
   "cell_type": "code",
   "execution_count": 94,
   "metadata": {},
   "outputs": [
    {
     "data": {
      "text/plain": [
       "[('Zip Code', 0.22438316933077412),\n",
       " ('Tenure Months', 0.12460147274686122),\n",
       " ('Contract', 0.12182202607645302),\n",
       " ('City', 0.10326912217839834),\n",
       " ('Total Charges', 0.08670216534438084),\n",
       " ('Monthly Charges', 0.08081361908499536),\n",
       " ('Tech Support', 0.0610149366430161),\n",
       " ('Dependents', 0.04965386771842792),\n",
       " ('Internet Service', 0.03373188403379362),\n",
       " ('Online Security', 0.02654025401441371),\n",
       " ('Payment Method', 0.023999092099365987),\n",
       " ('Device Protection', 0.019407336604764045),\n",
       " ('Online Backup', 0.017272565383057343),\n",
       " ('Streaming Movies', 0.013630557991707119),\n",
       " ('Streaming TV', 0.013157930749591415)]"
      ]
     },
     "execution_count": 94,
     "metadata": {},
     "output_type": "execute_result"
    }
   ],
   "source": [
    "zip_importance= zip(X.columns,clf.feature_importances_)\n",
    "zip_importance=sorted(zip_importance,key=lambda x:x[1],reverse=True)\n",
    "zip_importance"
   ]
  },
  {
   "cell_type": "code",
   "execution_count": 49,
   "metadata": {},
   "outputs": [
    {
     "data": {
      "text/plain": [
       "0.8415067519545132"
      ]
     },
     "execution_count": 49,
     "metadata": {},
     "output_type": "execute_result"
    }
   ],
   "source": [
    "clf.score(X_test,y_test)"
   ]
  }
 ],
 "metadata": {
  "kernelspec": {
   "display_name": "Python 3",
   "language": "python",
   "name": "python3"
  },
  "language_info": {
   "codemirror_mode": {
    "name": "ipython",
    "version": 3
   },
   "file_extension": ".py",
   "mimetype": "text/x-python",
   "name": "python",
   "nbconvert_exporter": "python",
   "pygments_lexer": "ipython3",
   "version": "3.12.3"
  }
 },
 "nbformat": 4,
 "nbformat_minor": 2
}
